{
 "cells": [
  {
   "cell_type": "markdown",
   "id": "35daf1d6-b207-4060-aa9e-095f27d747eb",
   "metadata": {},
   "source": [
    "# __SPARK ASSIGNMENT 1__\n",
    "> Name : Ilias Dimos <br />\n",
    "> AM : f2822102 <br />\n",
    "> Course : Big Data Systems <br />\n",
    "> Email : f2822102@aueb.gr <br /> "
   ]
  },
  {
   "cell_type": "markdown",
   "id": "2db0840d-c6ca-4a16-948b-e63c079ad8b5",
   "metadata": {},
   "source": [
    "## __TASK 3__\n",
    "#### As a final task, your supervisor assigned to you to investigate if it is possible to train a linear regression model (using LinearRegression() function) that could predict the “average_rating” of a book, using as input, its “language_code”, its “num_pages”, its “ratings_count”, and its “publication year”. Again you should use Python and Dataframes, this time with MLlib. You should pay attention to transform the string-based input features (“language_code” and “publication_year”) using the proper representation format, and you should explain your choices. Your code should :"
   ]
  },
  {
   "cell_type": "markdown",
   "id": "c70c71b7-b885-43ed-a10a-a5f1589b6207",
   "metadata": {},
   "source": [
    "#### __Dataset import.__ \n",
    "* In this task its very important to define from the first step the type of our data because Linear Regression works only for numeric data. In the `schema` variable we save the 5 columns we need from the initial dataset.We import the `num_pages` and the `ratings_count` as numeric , the `language_code` and the `publication_year` as strings and the `average_rating` as decimal we 2 digits.\n",
    "* Because of the missing values , the dataset has , in the string columns , we need to replace them with the word unknown defining that we dont have any kind of information about their values."
   ]
  },
  {
   "cell_type": "code",
   "execution_count": 100,
   "id": "368f5b5a-e6e1-4d64-aac9-5dd20481065b",
   "metadata": {},
   "outputs": [
    {
     "name": "stdout",
     "output_type": "stream",
     "text": [
      "root\n",
      " |-- num_pages: decimal(10,0) (nullable = true)\n",
      " |-- ratings_count: decimal(10,0) (nullable = true)\n",
      " |-- language_code: string (nullable = true)\n",
      " |-- publication_year: string (nullable = true)\n",
      " |-- average_rating: decimal(10,2) (nullable = true)\n",
      "\n",
      "+---------+-------------+-------------+----------------+--------------+\n",
      "|num_pages|ratings_count|language_code|publication_year|average_rating|\n",
      "+---------+-------------+-------------+----------------+--------------+\n",
      "|     null|            1|      unknown|         unknown|          4.12|\n",
      "|     null|           16|          fre|            2016|          3.94|\n",
      "|      146|           51|          eng|            2012|          4.28|\n",
      "|     null|            6|          eng|         unknown|          4.05|\n",
      "|      272|           51|        en-US|            1997|          4.06|\n",
      "|      206|           46|      unknown|            2007|          3.44|\n",
      "|      224|           39|          eng|            2016|          4.15|\n",
      "|      160|           38|      unknown|            2016|          3.16|\n",
      "|      160|           44|      unknown|            2016|          3.51|\n",
      "|      144|           32|      unknown|            2016|          4.00|\n",
      "+---------+-------------+-------------+----------------+--------------+\n",
      "only showing top 10 rows\n",
      "\n"
     ]
    }
   ],
   "source": [
    "from pyspark.sql import SparkSession\n",
    "#Builing the Spark session with name \"Assignment_1_TASK_3\n",
    "spark = SparkSession.builder.appName(\"Assignment_1_TASK_3\").getOrCreate()\n",
    "\n",
    "schema = \"\"\"\n",
    "`num_pages` numeric,\n",
    "`ratings_count` numeric,\n",
    "`language_code` string,\n",
    "`publication_year` string,\n",
    "`average_rating` decimal(10,2)\n",
    "\n",
    "\"\"\"\n",
    "#Importing the \"books_5000.json\" file with the read.json() command.\n",
    "dataset_3 = spark.read.json(\"books_5000.json\",schema=schema)\n",
    "dataset_3 = dataset_3.na.replace('', 'unknown', 'language_code')\n",
    "dataset_3 = dataset_3.na.replace('', 'unknown', 'publication_year')\n",
    "dataset_3.printSchema()\n",
    "dataset_3.show(10)\n"
   ]
  },
  {
   "cell_type": "markdown",
   "id": "b3426dc5-bd81-4220-a277-2b7dfae21acb",
   "metadata": {
    "tags": []
   },
   "source": [
    "#### __Dealing with the `null` values by identifing the outliers in `num_pages` column.__\n",
    "* Now its time to deal with the `null` values in the column `num_pages`. Deleting the rows where the `num_pages` is `null` is a wrong approach to our problem as we lose valuable information.\n",
    "* In order to choose how we are going to fill the null values we need to see the distribution of the `num_pages`. Firstly, we extract the specific column from the initial dataset `(dataset_3)`. Secondly with the use of the `Pandas` library we imported the column as dataframe. With the help of the `seaborn` library for visualizations we were able to visualize the outliers of the `num_pages` column.\n",
    "* The figure `Distribution of Book Pages` shows that we have a lot of outliers in the specific column."
   ]
  },
  {
   "cell_type": "code",
   "execution_count": 101,
   "id": "c1d70d40-545a-4586-9647-4a2cd8b35be6",
   "metadata": {},
   "outputs": [
    {
     "data": {
      "text/plain": [
       "Text(0.5, 1.0, 'Distribution of Book Pages ')"
      ]
     },
     "execution_count": 101,
     "metadata": {},
     "output_type": "execute_result"
    },
    {
     "data": {
      "image/png": "[encoded data removed]",
      "text/plain": [
       "<Figure size 1440x720 with 1 Axes>"
      ]
     },
     "metadata": {},
     "output_type": "display_data"
    }
   ],
   "source": [
    "import pandas as pd\n",
    "import numpy as np\n",
    "import seaborn as sns\n",
    "import matplotlib.pyplot as plt\n",
    "import warnings\n",
    "warnings.filterwarnings('ignore')\n",
    "# Dataset importing into a pandas dataframe and saved as \"num\".\n",
    "original_numerical_df = dataset_3.select(\"num_pages\").toPandas()\n",
    "num=pd.to_numeric(original_numerical_df.num_pages)\n",
    "\n",
    "#Plotting the num to find the outliers.\n",
    "sns.set(rc={'figure.figsize':(20,10)})\n",
    "ax = sns.boxplot(num,color='pink') #Plotting the num dataset.\n",
    "\n",
    "# Visualization of the labels in the diagram. \n",
    "ax.annotate('Outliers', \n",
    "            xy=(500,0), # Possition of the arow that shows to the Outliers.\n",
    "            xytext=(500,0.10), # Possition of the Outliers label.\n",
    "            fontsize=15, # Size of the letters.\n",
    "            arrowprops=dict(arrowstyle='->', ec='grey', lw=2), # Visualizing the arrow that shows the outliers. \n",
    "            bbox = dict( fc=\"0.8\")) # Framing the Outliers with a squeare box. \n",
    "\n",
    "# Setting the x-axis labels and the Title of the diagram.\n",
    "plt.xticks(fontsize=14)\n",
    "plt.xlabel('Book Pages', fontsize=14)\n",
    "plt.title('Distribution of Book Pages ', fontsize=20)\n"
   ]
  },
  {
   "cell_type": "markdown",
   "id": "f8d3303e-e4e9-42b0-9705-b71406956416",
   "metadata": {},
   "source": [
    "* The best way to deal is by filling them with the `median` metric. We choose median because it can deal with outliers as opposed to the average which is affected by them.\n",
    "* The code block below takes from the summary the 50% value that corrersponds to the median and fills the `null` values."
   ]
  },
  {
   "cell_type": "code",
   "execution_count": 102,
   "id": "67ce9007-fb04-4a49-bd5e-19aaac3ba762",
   "metadata": {},
   "outputs": [
    {
     "name": "stdout",
     "output_type": "stream",
     "text": [
      "+---------+-------------+-------------+----------------+--------------+\n",
      "|num_pages|ratings_count|language_code|publication_year|average_rating|\n",
      "+---------+-------------+-------------+----------------+--------------+\n",
      "|      164|            1|      unknown|         unknown|          4.12|\n",
      "|      164|           16|          fre|            2016|          3.94|\n",
      "|      146|           51|          eng|            2012|          4.28|\n",
      "|      164|            6|          eng|         unknown|          4.05|\n",
      "|      272|           51|        en-US|            1997|          4.06|\n",
      "|      206|           46|      unknown|            2007|          3.44|\n",
      "|      224|           39|          eng|            2016|          4.15|\n",
      "|      160|           38|      unknown|            2016|          3.16|\n",
      "|      160|           44|      unknown|            2016|          3.51|\n",
      "|      144|           32|      unknown|            2016|          4.00|\n",
      "|      212|          133|          kor|            2014|          4.41|\n",
      "|      144|          114|          eng|            2011|          3.16|\n",
      "|      200|          149|          eng|            2012|          4.41|\n",
      "|      230|          152|      unknown|            2012|          4.39|\n",
      "|      164|           64|      unknown|         unknown|          1.86|\n",
      "|      157|          174|          jpn|            2013|          4.31|\n",
      "|      224|           30|          spa|            2006|          4.43|\n",
      "|      176|            2|          zho|            2011|          4.38|\n",
      "|      192|           86|      unknown|            2006|          3.80|\n",
      "|      192|            8|          eng|         unknown|          4.46|\n",
      "+---------+-------------+-------------+----------------+--------------+\n",
      "only showing top 20 rows\n",
      "\n"
     ]
    }
   ],
   "source": [
    "from pyspark.sql.functions import col\n",
    "\n",
    "dataset_3=dataset_3.na.fill({'num_pages': dataset_3.summary().filter(col(\"summary\")==\"50%\").select(col(\"num_pages\")).collect()[0][0]})\n",
    "\n",
    "dataset_3.show()"
   ]
  },
  {
   "cell_type": "markdown",
   "id": "b5c8299f-749d-40ce-8db9-defc8e28be25",
   "metadata": {},
   "source": [
    "* The summary table below is used in order to validate if the median that we computed was the right one. Indeed we see that the 50% quantile is 164 which corresponds to the median. "
   ]
  },
  {
   "cell_type": "code",
   "execution_count": 103,
   "id": "5c815f8c-6c54-4673-8756-8506dc8572c5",
   "metadata": {},
   "outputs": [
    {
     "name": "stdout",
     "output_type": "stream",
     "text": [
      "+-------+-----------------+\n",
      "|summary|        num_pages|\n",
      "+-------+-----------------+\n",
      "|  count|             4999|\n",
      "|   mean|         168.1272|\n",
      "| stddev|93.92717361073092|\n",
      "|    min|                0|\n",
      "|    25%|            128.0|\n",
      "|    50%|            164.0|\n",
      "|    75%|            192.0|\n",
      "|    max|             1192|\n",
      "+-------+-----------------+\n",
      "\n"
     ]
    }
   ],
   "source": [
    "dataset_3.select(\"num_pages\").summary().show()"
   ]
  },
  {
   "cell_type": "markdown",
   "id": "ad57bb89-ebf6-4797-9501-a74ffe6c087f",
   "metadata": {},
   "source": [
    "#### __1) Preparing of the feature vectors.__\n",
    "* In this part of the project we are going to prepare our data in order to Train our Linear Regression Model. To begin with , Linear Regression works only with numeric data , so we have to encode any non-numeric variables we have. In our data we have `language_code` and `publication_year` which are `string` variables. With the help of `StringIndexer` we were able to convert the string variables into label of indexes. With the help of the `OneHotEncode` we manage to map these two columns to a column with binary data.\n",
    "* The next step is to vectorize our data. MLlib require a single column named feature as input. Using the `Vector Assembler` function we were able to make a vector for every row of data that contains a set of features for the prediction.\n",
    "* Additionaly we added the numeric variables into the `Vector Assembler`."
   ]
  },
  {
   "cell_type": "code",
   "execution_count": 104,
   "id": "042141c6-dbed-4280-8280-587d127d711b",
   "metadata": {},
   "outputs": [],
   "source": [
    "from pyspark.ml.feature import StringIndexer, OneHotEncoder\n",
    "\n",
    "# We determine which of the columns are categorical.\n",
    "categoricalCols = [\"language_code\", \"publication_year\"]\n",
    "\n",
    "# The following two lines are estimators. They return functions that we will later apply to transform the dataset.\n",
    "stringIndexer = StringIndexer(inputCols=categoricalCols, outputCols=[x + \"Index\" for x in categoricalCols]).setHandleInvalid(\"keep\") \n",
    "encoder = OneHotEncoder(inputCols=stringIndexer.getOutputCols(), outputCols=[x + \"OHE\" for x in categoricalCols]) "
   ]
  },
  {
   "cell_type": "markdown",
   "id": "e1382181-4e7d-4b22-9903-0d619f917db7",
   "metadata": {},
   "source": [
    "* In this code block we use the `VectorAssembler` feature of the MLlib library in order to unite the above transforamtions and make them a vector."
   ]
  },
  {
   "cell_type": "code",
   "execution_count": 105,
   "id": "32167383-fda3-444e-8871-7513c555883b",
   "metadata": {},
   "outputs": [],
   "source": [
    "from pyspark.ml.feature import VectorAssembler\n",
    "numeric_cols=[\"num_pages\",\"ratings_count\"]\n",
    "assemblerInputs = [c + \"OHE\" for c in categoricalCols] + numeric_cols \n",
    "vecAssembler = VectorAssembler(inputCols=assemblerInputs, outputCol=\"features\")"
   ]
  },
  {
   "cell_type": "markdown",
   "id": "d5894012-6ad1-4288-83a3-8d3d19fa77a6",
   "metadata": {
    "tags": []
   },
   "source": [
    "#### __2) Preparing of the training and testing datasets (70%-30%).__\n",
    "* Based on the assignment's instractions we split the dataset into 2 sub datasets. The one we will be used to train our model`(training)` and will contain the 70% of the dataset's observations and the other`(testing)` will be used in order to validate our model's prediction ability having the rest 30% of the dataset's observations. \n",
    "* In our __training__ dataset we have `3534` observations and in __testing__ dataset we have `1465`."
   ]
  },
  {
   "cell_type": "code",
   "execution_count": 106,
   "id": "40ffece0-58f6-4665-9b77-6cbc4f6e3a2b",
   "metadata": {},
   "outputs": [
    {
     "name": "stdout",
     "output_type": "stream",
     "text": [
      "The size of the training dataset is :  3534 rows\n",
      "The size of the test dataset is :  1465 rows\n"
     ]
    }
   ],
   "source": [
    "training, testing = dataset_3.randomSplit([0.7, 0.3], seed=229)\n",
    "\n",
    "print('The size of the training dataset is : ',\n",
    "      training.count(),\n",
    "      'rows') ; \n",
    "print('The size of the test dataset is : ' , \n",
    "      testing.count(),\n",
    "      'rows')\n"
   ]
  },
  {
   "cell_type": "markdown",
   "id": "19472810-d717-4d6a-b619-a94364488b9f",
   "metadata": {},
   "source": [
    "#### __3) Model Training with the use of pipeline.__\n",
    "*  __Modeling the Linear Regression Model__.\n",
    "   * In the first code block we use the `LinearRegression` function  in order to fit our model.We set the `features` vector as the independent variables and we set as dependent variable the ` average_rating` with the name `labelCol`.\n",
    "     * WIth the attribute `maxIter` we define the maximum number of iterations to perform before giving up.\n",
    "   "
   ]
  },
  {
   "cell_type": "code",
   "execution_count": 107,
   "id": "ddb2eaad-d54a-4315-ad83-5a2f66c36098",
   "metadata": {},
   "outputs": [],
   "source": [
    "from pyspark.ml.regression import LinearRegression\n",
    "\n",
    "regressor= LinearRegression(featuresCol=\"features\", labelCol=\"average_rating\", regParam=0.3,maxIter=10)"
   ]
  },
  {
   "cell_type": "markdown",
   "id": "1cbf56a5-347d-4d5f-888b-51a24b3da5ff",
   "metadata": {},
   "source": [
    "* In the this code block we created a `pipeline` to combine all the transformation we did in the previous steps. \n",
    "     * In the `model_fit` we save the fitting  of the pipeline in our `training` dataset.\n",
    "     * With the `.fit` command we were able to help our model learn the parameters of the `training` dataset.\n",
    "     * The above command returns a model which is transformer.\n",
    "     * To test the predictive abilities of our model, we transformed the `model_fit` in order to generate predictions using a dataset that has never seen before , this is the `test` dataset."
   ]
  },
  {
   "cell_type": "code",
   "execution_count": 108,
   "id": "34671d0d-5f56-4743-a518-22c6b9f27cab",
   "metadata": {},
   "outputs": [],
   "source": [
    "from pyspark.ml import Pipeline\n",
    "\n",
    "# Combining all the above transformations using Pipeline with the correct stages.\n",
    "pipeline = Pipeline(stages=[stringIndexer, encoder, vecAssembler,regressor])\n",
    "# Define the pipeline model.\n",
    "model_fit = pipeline.fit(training)\n",
    "# Apply the pipeline model to the test dataset to classify the respective samples.\n",
    "model_pred= model_fit.transform(testing)"
   ]
  },
  {
   "cell_type": "markdown",
   "id": "2eefd8f9-6245-417c-83a2-8c17e399f8ce",
   "metadata": {},
   "source": [
    "* __Displaying the predictions of our model.__\n",
    "  * We select the `features`, `average_rating` and the `predection` columns from the `model_pred` to present the final predictions that our Linear Regression Model has made. "
   ]
  },
  {
   "cell_type": "code",
   "execution_count": 109,
   "id": "0117b3f7-9201-4d05-90cc-41016500f25a",
   "metadata": {},
   "outputs": [
    {
     "name": "stdout",
     "output_type": "stream",
     "text": [
      "+-------------------------------------+--------------+------------------+\n",
      "|features                             |average_rating|prediction        |\n",
      "+-------------------------------------+--------------+------------------+\n",
      "|(96,[0,39,94,95],[1.0,1.0,13.0,6.0]) |3.67          |3.770301263329832 |\n",
      "|(96,[1,39,94,95],[1.0,1.0,14.0,55.0])|3.49          |3.843370520336553 |\n",
      "|(96,[1,40,94,95],[1.0,1.0,20.0,3.0]) |3.75          |3.864019542954632 |\n",
      "|(96,[1,43,94,95],[1.0,1.0,22.0,16.0])|4.28          |3.8433613167869223|\n",
      "|(96,[1,47,94,95],[1.0,1.0,23.0,1.0]) |4.00          |3.8355864383694427|\n",
      "|(96,[1,44,94,95],[1.0,1.0,24.0,2.0]) |3.50          |3.8518470654632675|\n",
      "|(96,[0,44,94,95],[1.0,1.0,24.0,4.0]) |4.17          |3.7792897689083573|\n",
      "|(96,[0,49,94,95],[1.0,1.0,24.0,9.0]) |3.73          |3.792465715284874 |\n",
      "|(96,[0,43,94,95],[1.0,1.0,24.0,21.0])|3.14          |3.7716973058018417|\n",
      "|(96,[1,38,94,95],[1.0,1.0,24.0,22.0])|4.00          |3.8690323787059513|\n",
      "+-------------------------------------+--------------+------------------+\n",
      "only showing top 10 rows\n",
      "\n"
     ]
    }
   ],
   "source": [
    "model_pred.select(\"features\",\"average_rating\",\"prediction\").show(10,truncate=False)"
   ]
  },
  {
   "cell_type": "markdown",
   "id": "7f6871b2-dd20-452e-931c-86976b7d331d",
   "metadata": {
    "tags": []
   },
   "source": [
    "#### __4) Evaluation of model's accuracy based on the Rsquared metric.__\n",
    "* In order to evaluate our model's prediction abilities we have to compute the Rsqueared metric. In the linear regression model, `R-squared` metric is the proportion of variation in the outcome that is explained by the predictor variables."
   ]
  },
  {
   "cell_type": "code",
   "execution_count": 110,
   "id": "b1e378a0-2e20-42e4-b33c-38d13d531b0b",
   "metadata": {},
   "outputs": [
    {
     "name": "stdout",
     "output_type": "stream",
     "text": [
      "R Squared (R2) on test data : 0.051\n"
     ]
    }
   ],
   "source": [
    "from pyspark.ml.evaluation import RegressionEvaluator\n",
    "lr_evaluator = RegressionEvaluator(predictionCol=\"prediction\", labelCol=\"average_rating\",metricName=\"r2\")\n",
    "print(\"R Squared (R2) on test data : %.3f\" % lr_evaluator.evaluate(model_pred))"
   ]
  }
 ],
 "metadata": {
  "kernelspec": {
   "display_name": "Python 3 (ipykernel)",
   "language": "python",
   "name": "python3"
  },
  "language_info": {
   "codemirror_mode": {
    "name": "ipython",
    "version": 3
   },
   "file_extension": ".py",
   "mimetype": "text/x-python",
   "name": "python",
   "nbconvert_exporter": "python",
   "pygments_lexer": "ipython3",
   "version": "3.9.10"
  }
 },
 "nbformat": 4,
 "nbformat_minor": 5
}
