{
 "cells": [
  {
   "cell_type": "markdown",
   "id": "f884802e-4092-40d0-a19c-4207c711e65f",
   "metadata": {},
   "source": [
    "# __SPARK ASSIGNMENT 1__\n",
    "> Name : Ilias Dimos <br />\n",
    "> AM : f2822102 <br />\n",
    "> Course : Big Data Systems <br />\n",
    "> Email : f2822102@aueb.gr <br />"
   ]
  },
  {
   "cell_type": "markdown",
   "id": "cbc3dac0-7b09-4d8f-a5ef-b191aa8aa8f4",
   "metadata": {},
   "source": [
    "## __TASK 1__\n",
    "#### Your first task is to explore the dataset. You need to use SparkSQL with Dataframes in a Jupyter notebook that delivers the following : \n",
    "#### __1) It uses the json() function to load the dataset.__"
   ]
  },
  {
   "cell_type": "code",
   "execution_count": 20,
   "id": "c64041c5-e33b-49e7-809a-203fac82b50a",
   "metadata": {},
   "outputs": [
    {
     "name": "stdout",
     "output_type": "stream",
     "text": [
      "+----------+--------------------+--------------+--------+------------+--------------------+-------------------+---------+--------------------+--------+----------+-------------+-----------+-------------+--------------------+---------+--------------------+---------------+-----------------+----------------+--------------------+-------------+--------------------+--------------------+------------------+--------------------+--------------------+--------------------+--------+\n",
      "|      asin|             authors|average_rating| book_id|country_code|         description|edition_information|   format|           image_url|is_ebook|      isbn|       isbn13|kindle_asin|language_code|                link|num_pages|     popular_shelves|publication_day|publication_month|publication_year|           publisher|ratings_count|              series|       similar_books|text_reviews_count|               title|title_without_series|                 url| work_id|\n",
      "+----------+--------------------+--------------+--------+------------+--------------------+-------------------+---------+--------------------+--------+----------+-------------+-----------+-------------+--------------------+---------+--------------------+---------------+-----------------+----------------+--------------------+-------------+--------------------+--------------------+------------------+--------------------+--------------------+--------------------+--------+\n",
      "|B00NLXQ534|       [{8551671, }]|          4.12|25742454|          US|Lillian Ann Cross...|                   |         |https://s.gr-asse...|    true|          |             |           |             |https://www.goodr...|         |[{228, to-read}, ...|               |                 |                |                    |            1|                  []|[25653153, 256991...|                 1|The Switchblade M...|The Switchblade M...|https://www.goodr...|42749946|\n",
      "|          |       [{3274315, }]|          3.94|30128855|          US|Florence Dupre La...|                   |         |https://images.gr...|   false|2205073346|             |           |          fre|https://www.goodr...|         |[{2, bd}, {2, to-...|             22|                1|            2016|             Dargaud|           16|                  []|                  []|                 2|             Cruelle|             Cruelle|https://www.goodr...|50558228|\n",
      "|          |         [{37450, }]|          4.28|13571772|          US|The questions pla...|                   |Hardcover|https://images.gr...|   false|          |             |           |          eng|https://www.goodr...|      146|[{493, to-read}, ...|               |                 |            2012|Hachette Partwork...|           51|[246830, 362583, ...|[13590139, 105963...|                 5|Captain America: ...|Captain America: ...|https://www.goodr...|  102217|\n",
      "|B06XKGGSB7|[{16209952, }, {8...|          4.05|35452242|          US|The fight for Jas...|                   |         |https://s.gr-asse...|    true|          |             | B06XKGGSB7|          eng|https://www.goodr...|         |[{222, to-read}, ...|               |                 |                |                    |            6|                  []|                  []|                 1|Bounty Hunter 4/3...|Bounty Hunter 4/3...|https://www.goodr...|54276229|\n",
      "|          |[{81563, }, {8953...|          4.06|  707611|          US|These are the sto...|                   |Hardcover|https://images.gr...|   false|0930289765|9780930289768|           |        en-US|https://www.goodr...|      272|[{20, to-read}, {...|             14|               11|            1997|           DC Comics|           51|   [266759, 1096220]|                  []|                 6|Superman Archives...|Superman Archives...|https://www.goodr...|  693886|\n",
      "+----------+--------------------+--------------+--------+------------+--------------------+-------------------+---------+--------------------+--------+----------+-------------+-----------+-------------+--------------------+---------+--------------------+---------------+-----------------+----------------+--------------------+-------------+--------------------+--------------------+------------------+--------------------+--------------------+--------------------+--------+\n",
      "only showing top 5 rows\n",
      "\n"
     ]
    }
   ],
   "source": [
    "from pyspark.sql import SparkSession\n",
    "\n",
    "#Builing the Spark session with name \"Assignment_1_TASK_1\n",
    "spark = SparkSession.builder.appName(\"Assignment_1_TASK1_1\").getOrCreate()\n",
    "\n",
    "#Importing the \"books_5000.json\" file with the read.json() command.\n",
    "dataset = spark.read.json(\"books_5000.json\")\n",
    "\n",
    "#Showing the first 5 lines of our dataset\n",
    "dataset.show(5)"
   ]
  },
  {
   "cell_type": "markdown",
   "id": "e4dfdbb5-ee12-42f8-a62b-3ce890668e3d",
   "metadata": {},
   "source": [
    "#### __2) It counts and displays the number of books in the database.__\n",
    "* In total we have __4999__ books in the database."
   ]
  },
  {
   "cell_type": "code",
   "execution_count": 21,
   "id": "2fab93d8-1a44-4b28-84a2-8232bafffead",
   "metadata": {},
   "outputs": [
    {
     "data": {
      "text/plain": [
       "4999"
      ]
     },
     "execution_count": 21,
     "metadata": {},
     "output_type": "execute_result"
    }
   ],
   "source": [
    "dataset.count()"
   ]
  },
  {
   "cell_type": "code",
   "execution_count": 22,
   "id": "b39688d9-37de-4051-b754-045adc8abbab",
   "metadata": {},
   "outputs": [
    {
     "data": {
      "text/plain": [
       "4999"
      ]
     },
     "execution_count": 22,
     "metadata": {},
     "output_type": "execute_result"
    }
   ],
   "source": [
    "dataset.distinct().count() # no duplicates"
   ]
  },
  {
   "cell_type": "markdown",
   "id": "7696be97-fd2d-473f-86b3-1cc832f2dd17",
   "metadata": {},
   "source": [
    "#### __3) It counts and displays the number of e-books in the database (based on the “is_ebook” field).__\n",
    "* In this question i choosed the `filter` function in order to extract the column that `contains` , if a book is `e_book` or not , and `count` how many of them really are. \n",
    "* If a book is e_book is labeled as `true` in the dataset.\n",
    "* The Ebooks in the database are __749.__"
   ]
  },
  {
   "cell_type": "code",
   "execution_count": 23,
   "id": "a827e99d-cb1b-42cf-a1ea-0f5ad520a84c",
   "metadata": {},
   "outputs": [
    {
     "data": {
      "text/plain": [
       "749"
      ]
     },
     "execution_count": 23,
     "metadata": {},
     "output_type": "execute_result"
    }
   ],
   "source": [
    "from pyspark.sql.functions import col\n",
    "dataset.filter(col(\"is_ebook\").contains(\"true\")).count()"
   ]
  },
  {
   "cell_type": "markdown",
   "id": "19540924-e3f6-4dd5-b2b7-ca58f35ff08d",
   "metadata": {
    "tags": []
   },
   "source": [
    "#### __4) It uses the summary() command to display basic statistics about the “average_rating” field.__\n",
    "* By seeing the `summary` table below we can see that we have 4999 `ratings` in our database.The `average rating` of the books is __3.91120.__ \n",
    "* The `Minimum rating` is 1 and the `Maximum rating` is __5.__\n"
   ]
  },
  {
   "cell_type": "code",
   "execution_count": 24,
   "id": "1d4524de-f4de-46d6-ae71-6db1440cb88b",
   "metadata": {},
   "outputs": [
    {
     "name": "stdout",
     "output_type": "stream",
     "text": [
      "+-------+-------------------+\n",
      "|summary|     average_rating|\n",
      "+-------+-------------------+\n",
      "|  count|               4999|\n",
      "|   mean| 3.9112042408481678|\n",
      "| stddev|0.43444489528688784|\n",
      "|    min|               1.00|\n",
      "|    25%|               3.66|\n",
      "|    50%|               3.98|\n",
      "|    75%|               4.23|\n",
      "|    max|               5.00|\n",
      "+-------+-------------------+\n",
      "\n"
     ]
    }
   ],
   "source": [
    "dataset.select(\"average_rating\").summary().show()"
   ]
  },
  {
   "cell_type": "markdown",
   "id": "153369c1-4712-4a80-bd39-7171cfa31635",
   "metadata": {},
   "source": [
    "#### __4) It uses the groupby() and count() commands to display all distinct values in the “format” field and their number of appearances.__\n",
    "* We see that the `format` with the most appearances in the dataset is the \"Paperback\" with __2629.__"
   ]
  },
  {
   "cell_type": "code",
   "execution_count": 25,
   "id": "b53feb6a-08bf-4d93-93e6-3d83ccf04187",
   "metadata": {},
   "outputs": [
    {
     "name": "stdout",
     "output_type": "stream",
     "text": [
      "+--------------------------+-----+\n",
      "|format                    |count|\n",
      "+--------------------------+-----+\n",
      "|Paperback                 |2629 |\n",
      "|                          |1245 |\n",
      "|Hardcover                 |826  |\n",
      "|ebook                     |84   |\n",
      "|Mass Market Paperback     |64   |\n",
      "|Kindle Edition            |41   |\n",
      "|Comic Book                |15   |\n",
      "|Comic                     |15   |\n",
      "|Board book                |11   |\n",
      "|Unknown Binding           |7    |\n",
      "|Bolsillo con sobrecubierta|2    |\n",
      "|Webtoon                   |2    |\n",
      "|paperback                 |2    |\n",
      "|Paperback Manga           |2    |\n",
      "|Broche                    |2    |\n",
      "|Library Binding           |2    |\n",
      "|Illustrated               |2    |\n",
      "|Comics                    |2    |\n",
      "|Graphic Novel             |2    |\n",
      "|Album                     |2    |\n",
      "+--------------------------+-----+\n",
      "only showing top 20 rows\n",
      "\n"
     ]
    }
   ],
   "source": [
    "dataset_format_ordered = dataset.groupby(\"format\").count().orderBy('count', ascending=False)\n",
    "dataset_format_ordered.show(truncate=False)"
   ]
  }
 ],
 "metadata": {
  "kernelspec": {
   "display_name": "Python 3 (ipykernel)",
   "language": "python",
   "name": "python3"
  },
  "language_info": {
   "codemirror_mode": {
    "name": "ipython",
    "version": 3
   },
   "file_extension": ".py",
   "mimetype": "text/x-python",
   "name": "python",
   "nbconvert_exporter": "python",
   "pygments_lexer": "ipython3",
   "version": "3.9.10"
  }
 },
 "nbformat": 4,
 "nbformat_minor": 5
}
